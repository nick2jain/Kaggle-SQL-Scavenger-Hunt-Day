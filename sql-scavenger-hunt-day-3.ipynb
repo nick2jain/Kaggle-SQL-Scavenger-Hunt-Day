{
  "cells": [
    {
      "metadata": {
        "_cell_guid": "aac1eb7a-6eb0-4239-bf0c-7edf5dd242a1",
        "_uuid": "56f92656487e77f60088d9afe9969a878ac1ead5"
      },
      "cell_type": "markdown",
      "source": "<table>\n    <tr>\n        <td>\n        <center>\n        <font size=\"+1\">If you haven't used BigQuery datasets on Kaggle previously, check out the <a href = \"https://www.kaggle.com/rtatman/sql-scavenger-hunt-handbook/\">Scavenger Hunt Handbook</a> kernel to get started.</font>\n        </center>\n        </td>\n    </tr>\n</table>\n\n___ \n\n## Previous days:\n\n* [**Day 1:** SELECT, FROM & WHERE](https://www.kaggle.com/rtatman/sql-scavenger-hunt-day-1/)\n* [**Day 2:** GROUP BY, HAVING & COUNT()](https://www.kaggle.com/rtatman/sql-scavenger-hunt-day-2/)\n\n____\n"
    },
    {
      "metadata": {
        "_cell_guid": "2fc58cbb-15ec-42e5-8f81-ca4cba5db07c",
        "_uuid": "8710f8a626efbd27c8e53b723e97813fdd388822"
      },
      "cell_type": "markdown",
      "source": "# ORDER BY (and Dates!)\n\nSo far in our scavenger hunt, we've learned how to use the following clauses: \n    \n    SELECT ... \n    FROM ...\n    (WHERE) ...\n    GROUP BY ...\n    (HAVING) ...\nWe also learned how to use the COUNT() aggregate function and, if you did the optional extra credit, possibly other aggregate functions as well. (If any of this is sounds unfamiliar to you, you can check out the earlier two days using the links above.)\n\nToday we're going to learn how change the order that data is returned to us using the ORDER BY clause. We're also going to talk a little bit about how to work with dates in SQL, because they're sort of their own thing and can lead to headaches if you're unfamiliar with them.\n\n\n### ORDER BY\n___\n\nFirst, let's learn how to use ORDER BY. ORDER BY is usually the last clause you'll put in your query, since you're going to want to use it to sort the results returned by the rest of your query.\n\nWe're going to be making queries against this version of the table we've been using an example over the past few days. \n\n> **Why would the order of a table change?** This can actually happen to active BigQuery datasets, since if your table is being added to regularly [it may be coalesced every so often and that will change the order of the data in your table](https://stackoverflow.com/questions/16854116/the-order-of-records-in-a-regularly-updated-bigquery-databaseg). \n\nYou'll notice that, unlike in earlier days, our table is no longer sorted by the ID column. \n\n![](https://i.imgur.com/QRgb4iL.png). \n\n** Ordering by a numeric column**\n\nWhen you ORDER BY a numeric column, by default the column will be sorted from the lowest to highest number. So this query will return the ID, Name and Animal columns, all sorted by the number in the ID column. The row with the lowest number in the ID column will be returned first.\n\n    SELECT ID, Name, Animal\n    FROM `bigquery-public-data.pet_records.pets`\n    ORDER BY ID\nVisually, this looks something like this:\n\n![](https://i.imgur.com/zEXDTKS.png)\n\n    \n** Ordering by a text column**\n\nYou can also order by columns that have text in them. By default, the column you sort on will be sorted alphabetically from the beginning to the end of the alphabet.\n\n    SELECT ID, Name, Animal\n    FROM `bigquery-public-data.pet_records.pets`\n    ORDER BY Animal\n![](https://i.imgur.com/E7qjnf9.png)\n\n** Reversing the order**\n\nYou can reverse the sort order (reverse alphabetical order for text columns or high to low for numeric columns) using the DESC argument. \n\n> ** DESC** is short for \"descending\", or high-to-low.\n\nSo this query will sort the selected columns by the Animal column, but the values that are last in alphabetic order will be returned first.\n\n    SELECT ID, Name, Animal\n    FROM `bigquery-public-data.pet_records.pets`\n    ORDER BY Animal DESC\n![](https://i.imgur.com/DREYNFF.png)\n \n### Dates\n____\n\nFinally, let's talk about dates. I'm including these because they are something that I found particularly confusing when I first learned SQL, and I ended up having to use them all. the. time. \n\nThere are two different ways that a date can be stored in BigQuery: as a DATE or as a DATETIME. Here's a quick summary:\n\n**DATE format**\n\nThe DATE format has the year first, then the month, and then the day. It looks like this:\n\n    YYYY-[M]M-[D]D\n* YYYY: Four-digit year\n* [M]M: One or two digit month\n* [D]D: One or two digit day\n\n**DATETIME/TIMESTAMP format**\n\nThe DATETIME format is just like the date format... but with time added at the end. (The difference between DATETIME and TIMESTAMP is that the date and time information in a DATETIME is based on a specific timezone. On the other hand, a TIMESTAMP will be the same in all time zones, except for the time zone) . Both formats look like this:\n\n    YYYY-[M]M-[D]D[( |T)[H]H:[M]M:[S]S[.DDDDDD]][time zone]\n* YYYY: Four-digit year\n* [M]M: One or two digit month\n* [D]D: One or two digit day\n* ( |T): A space or a T separator\n* [H]H: One or two digit hour (valid values from 00 to 23)\n* [M]M: One or two digit minutes (valid values from 00 to 59)\n* [S]S: One or two digit seconds (valid values from 00 to 59)\n* [.DDDDDD]: Up to six fractional digits (i.e. up to microsecond precision)\n* (TIMESTAMP only) [time zone]: String representing the time zone\n\n** Getting only part of a date **\n\nOften, though, you'll only want to look at part of a date, like the year or the day. You can do this using the EXTRACT function and specifying what part of the date you'd like to extract. \n\nSo this query will return one column with just the day of each date in the column_with_timestamp column: \n\n            SELECT EXTRACT(DAY FROM column_with_timestamp)\n            FROM `bigquery-public-data.imaginary_dataset.imaginary_table`\nOne of the nice things about SQL is that it's very smart about dates and we can ask for information beyond just extracting part of the cell. For example, this query will return one column with just the week in the year (between 1 and 53) of each date in the column_with_timestamp column: \n\n            SELECT EXTRACT(WEEK FROM column_with_timestamp)\n            FROM `bigquery-public-data.imaginary_dataset.imaginary_table`\nSQL has a lot of power when it comes to dates, and that lets you ask very specific questions using this information. You can find all the functions you can use with dates in BigQuery [on this page](https://cloud.google.com/bigquery/docs/reference/legacy-sql), under \"Date and time functions\".  "
    },
    {
      "metadata": {
        "_cell_guid": "2e2563a2-5b9d-42a4-8fa3-da4d4150b24d",
        "_uuid": "0482e52934a735a43d562fe7beeabb85fe70e338"
      },
      "cell_type": "markdown",
      "source": "## Example: Which day of the week do the most fatal motor accidents happen on?\n___\n\nNow we're ready to work through an example. Today, we're going to be using the US Traffic Fatality Records database, which contains information on traffic accidents in the US where at least one person died. (It's definitely a sad topic, but if we can understand this data and the trends in it we can use that information to help prevent additional accidents.)\n\nFirst, just like yesterday, we need to get our environment set up. Since you already know how to look at schema information at this point, I'm going to let you do that on your own. \n\n> **Important note:** Make sure that you add the BigQuery dataset you're querying to your kernel. Otherwise you'll get "
    },
    {
      "metadata": {
        "collapsed": true,
        "_cell_guid": "9a26e7db-812d-4fbb-b457-e09d323af127",
        "_uuid": "ab40ebc98c64c78df9a11d922bbc23573a43aefe",
        "trusted": false
      },
      "cell_type": "code",
      "source": "# import package with helper functions \nimport bq_helper\n\n# create a helper object for this dataset\naccidents = bq_helper.BigQueryHelper(active_project=\"bigquery-public-data\",\n                                   dataset_name=\"nhtsa_traffic_fatalities\")",
      "execution_count": null,
      "outputs": []
    },
    {
      "metadata": {
        "_cell_guid": "c4cf499d-a495-4717-a390-523107b3e1b2",
        "_uuid": "e70b02fc205ca45859a8520c211e11e3f46a3811"
      },
      "cell_type": "markdown",
      "source": "We're going to look at which day of the week the most fatal traffic accidents happen on. I'm going to get the count of the unique id's (in this table they're called \"consecutive_number\") as well as the day of the week for each accident. Then I'm going sort my table so that the days with the most accidents are on returned first."
    },
    {
      "metadata": {
        "collapsed": true,
        "_cell_guid": "787efd2f-8f1e-4804-982c-4cd86888c56f",
        "_uuid": "42f5bfb36cba82ccf9250a9c71077ce4154b4a32",
        "trusted": false
      },
      "cell_type": "code",
      "source": "# query to find out the number of accidents which \n# happen on each day of the week\nquery = \"\"\"SELECT COUNT(consecutive_number), \n                  EXTRACT(DAYOFWEEK FROM timestamp_of_crash)\n            FROM `bigquery-public-data.nhtsa_traffic_fatalities.accident_2015`\n            GROUP BY EXTRACT(DAYOFWEEK FROM timestamp_of_crash)\n            ORDER BY COUNT(consecutive_number) DESC\n        \"\"\"",
      "execution_count": null,
      "outputs": []
    },
    {
      "metadata": {
        "_cell_guid": "baf936ce-7334-4038-9c6a-d2a8d2d4d8e4",
        "_uuid": "b16b54b3e2d1b478f9179d6e73f0660c6aa973d4"
      },
      "cell_type": "markdown",
      "source": "Now that our query is ready, let's run it (safely!) and store the results in a dataframe: "
    },
    {
      "metadata": {
        "collapsed": true,
        "_cell_guid": "b37cf4b8-1d54-456b-9e52-8e139b166a6e",
        "_uuid": "ecde0a65fad06ef5d22d896484d8cbe05f874e12",
        "scrolled": true,
        "trusted": false
      },
      "cell_type": "code",
      "source": "# the query_to_pandas_safe method will cancel the query if\n# it would use too much of your quota, with the limit set \n# to 1 GB by default\naccidents_by_day = accidents.query_to_pandas_safe(query)",
      "execution_count": null,
      "outputs": []
    },
    {
      "metadata": {
        "_cell_guid": "965b0a34-170d-4583-9ea7-abce1db8dd15",
        "_uuid": "d7f9774939c28ced59e167dc10de0daf7d357ba8"
      },
      "cell_type": "markdown",
      "source": "And that gives us a dataframe! Let's quickly plot our data to make sure that it's actually been sorted:"
    },
    {
      "metadata": {
        "_cell_guid": "870d6747-9285-4d01-b987-fea070f6b84a",
        "_uuid": "cd43192ab15800fd1d93988fe28f6155c1a59b12",
        "trusted": false,
        "collapsed": true
      },
      "cell_type": "code",
      "source": "# library for plotting\nimport matplotlib.pyplot as plt\n\n# make a plot to show that our data is, actually, sorted:\nplt.plot(accidents_by_day.f0_)\nplt.title(\"Number of Accidents by Rank of Day \\n (Most to least dangerous)\")",
      "execution_count": null,
      "outputs": []
    },
    {
      "metadata": {
        "_cell_guid": "b2dd3f5e-a820-4d45-ba2a-9bbb431bab34",
        "_uuid": "e058778c7bae87dc7a2444b07b242f9d79661e50"
      },
      "cell_type": "markdown",
      "source": "Yep, our query was, in fact, returned sorted! Now let's take a quick peek to figure out which days are the most dangerous:"
    },
    {
      "metadata": {
        "_cell_guid": "8c951428-b0e9-4ba6-8376-2929ca4fcda1",
        "_uuid": "6bde92cfe7c352e01947be120eea64ee71cbd402",
        "trusted": false,
        "collapsed": true
      },
      "cell_type": "code",
      "source": "print(accidents_by_day)",
      "execution_count": null,
      "outputs": []
    },
    {
      "metadata": {
        "_cell_guid": "32055a03-ead5-4603-ac5e-d7faf25b7ffe",
        "_uuid": "eaf762f2a3af36758970eb1bb2f3f0d347059406"
      },
      "cell_type": "markdown",
      "source": "To map from the numbers returned for the day of the week (the second column) to the actual day, I consulted [the BigQuery documentation on the DAYOFWEEK function](https://cloud.google.com/bigquery/docs/reference/legacy-sql#dayofweek), which says that it returns \"an integer between 1 (Sunday) and 7 (Saturday), inclusively\". So we can tell, based on our query, that in 2015 most fatal motor accidents occur on Sunday and Saturday, while the fewest happen on Tuesday."
    },
    {
      "metadata": {
        "_kg_hide-output": true,
        "_cell_guid": "fda0a223-5fd5-4524-a402-ecaef2905fa0",
        "_uuid": "654d2baeecb8757e10d02a63ec6cc63fe2df2339"
      },
      "cell_type": "markdown",
      "source": "# Scavenger hunt\n___\n\nNow it's your turn! Here are the questions I would like you to get the data to answer:\n\n* Which hours of the day do the most accidents occur during?\n    * Return a table that has information on how many accidents occurred in each hour of the day in 2015, sorted by the the number of accidents which occurred each hour. Use either the accident_2015 or accident_2016 table for this, and the timestamp_of_crash column. (Yes, there is an hour_of_crash column, but if you use that one you won't get a chance to practice with dates. :P)\n    * **Hint:** You will probably want to use the [EXTRACT() function](https://cloud.google.com/bigquery/docs/reference/standard-sql/functions-and-operators#extract_1) for this.\n* Which state has the most hit and runs?\n    * Return a table with the number of vehicles registered in each state that were involved in hit-and-run accidents, sorted by the number of hit and runs. Use either the vehicle_2015 or vehicle_2016 table for this, especially the registration_state_name and hit_and_run columns.\n\nIn order to answer these questions, you can fork this notebook by hitting the blue \"Fork Notebook\" at the very top of this page (you may have to scroll up). \"Forking\" something is making a copy of it that you can edit on your own without changing the original."
    },
    {
      "metadata": {
        "_cell_guid": "a4f6aab8-ae9b-4123-87e9-94aadf6a757c",
        "_uuid": "c346ce030dd69d682f91756fc9185ae7845066fb",
        "trusted": false,
        "collapsed": true
      },
      "cell_type": "code",
      "source": "# Your code goes here :)\n# query to find out the number of accidents which \n# happen on each day of the week\nquery1 = \"\"\"SELECT COUNT(consecutive_number),\n                  EXTRACT(HOUR FROM timestamp_of_crash)\n            FROM `bigquery-public-data.nhtsa_traffic_fatalities.accident_2015`\n            GROUP BY EXTRACT(HOUR FROM timestamp_of_crash)\n            ORDER BY COUNT(consecutive_number) DESC\n        \"\"\"\naccidents_by_HOUR = accidents.query_to_pandas_safe(query1)\naccidents_by_HOUR\n# GROUP BY registration_state_name\n#ORDER BY COUNT(registration_state_name) DESC  \n# create a helper object for this dataset\nvehicle = bq_helper.BigQueryHelper(active_project=\"bigquery-public-data\",\n                                   dataset_name=\"nhtsa_traffic_fatalities\")\n\nquery2 = \"\"\"SELECT registration_state_name,COUNT(consecutive_number) AS Count \n            FROM `bigquery-public-data.nhtsa_traffic_fatalities.vehicle_2015`\n            WHERE hit_and_run = 'Yes'\n            group by  registration_state_name\n            ORDER BY COUNT(consecutive_number) desc  \n        \"\"\"\nhintandrun = vehicle.query_to_pandas_safe(query2)\n\nhintandrun\n",
      "execution_count": null,
      "outputs": []
    },
    {
      "metadata": {
        "_cell_guid": "a2313b92-8f03-41e3-a28b-99a0f54397b2",
        "_uuid": "b0f920e6fc8e371f7b4ad10ff7015526552a19d5"
      },
      "cell_type": "markdown",
      "source": "Please feel free to ask any questions you have in this notebook or in the [Q&A forums](https://www.kaggle.com/questions-and-answers)! \n\nAlso, if you want to share or get comments on your kernel, remember you need to make it public first! You can change the visibility of your kernel under the \"Settings\" tab, on the right half of your screen."
    }
  ],
  "metadata": {
    "kernelspec": {
      "display_name": "Python 3",
      "language": "python",
      "name": "python3"
    },
    "language_info": {
      "nbconvert_exporter": "python",
      "codemirror_mode": {
        "name": "ipython",
        "version": 3
      },
      "name": "python",
      "mimetype": "text/x-python",
      "pygments_lexer": "ipython3",
      "version": "3.6.4",
      "file_extension": ".py"
    }
  },
  "nbformat": 4,
  "nbformat_minor": 1
}